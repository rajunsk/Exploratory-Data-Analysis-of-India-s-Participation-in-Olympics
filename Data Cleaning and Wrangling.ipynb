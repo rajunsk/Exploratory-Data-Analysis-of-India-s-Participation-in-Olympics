{
 "cells": [
  {
   "cell_type": "markdown",
   "id": "26cb09c1",
   "metadata": {},
   "source": [
    "Importing Libraries"
   ]
  },
  {
   "cell_type": "code",
   "execution_count": null,
   "id": "ed3ad441",
   "metadata": {},
   "outputs": [],
   "source": [
    "import pandas as pd \n",
    "import numpy as np"
   ]
  },
  {
   "cell_type": "code",
   "execution_count": null,
   "id": "6c26361e",
   "metadata": {},
   "outputs": [],
   "source": [
    "# Try with ISO-8859-1 (a common Excel export encoding)\n",
    "df = pd.read_csv(\"OLympic praticipants.csv\", encoding=\"ISO-8859-1\")\n",
    "print(df.head(10))"
   ]
  },
  {
   "cell_type": "code",
   "execution_count": null,
   "id": "0bda71e4",
   "metadata": {},
   "outputs": [],
   "source": [
    "print(df.columns)"
   ]
  },
  {
   "cell_type": "markdown",
   "id": "64f4acc4",
   "metadata": {},
   "source": [
    "Inspectind data"
   ]
  },
  {
   "cell_type": "code",
   "execution_count": null,
   "id": "7d3c1c35",
   "metadata": {},
   "outputs": [],
   "source": [
    "print(df.info())\n",
    "print(df.describe(include=\"all\"))\n",
    "print(df.isnull().sum())"
   ]
  },
  {
   "cell_type": "markdown",
   "id": "f9d89ca8",
   "metadata": {},
   "source": [
    "Handle Missing Values"
   ]
  },
  {
   "cell_type": "code",
   "execution_count": null,
   "id": "4a5a15a2",
   "metadata": {},
   "outputs": [],
   "source": [
    "# Make column names lowercase\n",
    "df.columns = df.columns.str.lower()\n",
    "# Now you can safely use lowercase everywhere\n",
    "df[['gold', 'silver', 'bronze']] = df[['gold', 'silver', 'bronze']].fillna(0)\n",
    "df['year'] = df['year'].astype('Int64')"
   ]
  },
  {
   "cell_type": "code",
   "execution_count": null,
   "id": "b13acb38",
   "metadata": {},
   "outputs": [],
   "source": [
    "# Standardize athlete names\n",
    "df['name'] = df['name'].replace({\n",
    "    'P Sindhu': 'Pv Sindhu'\n",
    "})\n",
    "df['gender'] = df['gender'].replace({'F': 'W'})"
   ]
  },
  {
   "cell_type": "markdown",
   "id": "0c1fb9e9",
   "metadata": {},
   "source": [
    "Clean TEXT Data"
   ]
  },
  {
   "cell_type": "code",
   "execution_count": null,
   "id": "dcb2e5e3",
   "metadata": {},
   "outputs": [],
   "source": [
    "df['name'] = df['name'].str.strip().str.title()\n",
    "df['sport'] = df['sport'].str.strip().str.title()\n",
    "df['city']  = df['city'].str.strip().str.title()\n",
    "print(df.head())"
   ]
  },
  {
   "cell_type": "code",
   "execution_count": null,
   "id": "db3e39c9",
   "metadata": {},
   "outputs": [],
   "source": [
    "print(\"📌 Unique Years:\")\n",
    "years_list = sorted(df['year'].dropna().unique().tolist())\n",
    "print(years_list, \"\\n\")\n",
    "print(len(years_list))\n",
    "# Unique Cities\n",
    "print(\"📌 Unique Cities:\")\n",
    "city_list = sorted(df['city'].dropna().unique().tolist())\n",
    "print(city_list, \"\\n\")\n",
    "print(len(city_list))\n",
    "gender_list = sorted(df['gender'].dropna().unique().tolist())\n",
    "print(\"📌 Unique Genders:\")\n",
    "print(gender_list)\n",
    "print(\"Total Genders:\", len(gender_list))\n",
    "# Unique Sports\n",
    "print(\"📌 Unique Sports:\")\n",
    "sports_list = sorted(df['sport'].dropna().unique().tolist())\n",
    "print(sports_list, \"\\n\")\n",
    "print(len(sports_list ))"
   ]
  },
  {
   "cell_type": "code",
   "execution_count": null,
   "id": "967765fd",
   "metadata": {},
   "outputs": [],
   "source": [
    "print(\"📌 Count of Years:\")\n",
    "year_counts = df['year'].value_counts().sort_index().reset_index()\n",
    "year_counts.columns = ['Year', 'Count']\n",
    "print(year_counts)"
   ]
  },
  {
   "cell_type": "code",
   "execution_count": null,
   "id": "6c6cef18",
   "metadata": {},
   "outputs": [],
   "source": [
    "print(\"📌 Count of Sports:\")\n",
    "print(df['sport'].value_counts().sort_index(), \"\\n\")"
   ]
  },
  {
   "cell_type": "code",
   "execution_count": null,
   "id": "cceae907",
   "metadata": {},
   "outputs": [],
   "source": [
    "\n",
    "# Group by Year and City\n",
    "summary = df.groupby(['year', 'city']).agg(\n",
    "    Male=('gender', lambda x: (x == 'M').sum()),\n",
    "    Female=('gender', lambda x: (x == 'F').sum()),\n",
    "    Sports=('sport', 'nunique'),   # count unique sports\n",
    "    Gold=('gold', 'sum'),\n",
    "    Silver=('silver', 'sum'),\n",
    "    Bronze=('bronze', 'sum')\n",
    ").reset_index()\n",
    "print(summary)\n",
    "summary.to_csv(\"Olympics_Summary.csv\", index=False)\n"
   ]
  },
  {
   "cell_type": "code",
   "execution_count": null,
   "id": "58ab3ff4",
   "metadata": {},
   "outputs": [],
   "source": [
    "df['total_medals'] = df['gold'] + df['silver'] + df['bronze']\n"
   ]
  },
  {
   "cell_type": "code",
   "execution_count": null,
   "id": "022a20d8",
   "metadata": {},
   "outputs": [],
   "source": [
    "medals_by_gender = df.pivot_table(\n",
    "    values='total_medals',\n",
    "    index='year',\n",
    "    columns='gender',\n",
    "    aggfunc='sum',\n",
    "    fill_value=0\n",
    ").reset_index()\n",
    "print(medals_by_gender)"
   ]
  },
  {
   "cell_type": "code",
   "execution_count": null,
   "id": "8917873a",
   "metadata": {},
   "outputs": [],
   "source": [
    "sport_summary = df.groupby(['year', 'sport']).agg(\n",
    "    Athletes=('name', 'nunique'),\n",
    "    Male=('gender', lambda x: (x == 'M').sum()),\n",
    "    Female=('gender', lambda x: (x == 'W').sum()),\n",
    "    Gold=('gold', 'sum'),\n",
    "    Silver=('silver', 'sum'),\n",
    "    Bronze=('bronze', 'sum')\n",
    ").reset_index()\n",
    "sport_summary.to_csv(\"sport_summary.csv\", index=False)\n",
    "sport_summary"
   ]
  },
  {
   "cell_type": "code",
   "execution_count": null,
   "id": "e528d399",
   "metadata": {},
   "outputs": [],
   "source": [
    "top_sports = df.groupby('sport')['total_medals'].sum().sort_values(ascending=False).head(10)\n",
    "top_sports"
   ]
  },
  {
   "cell_type": "code",
   "execution_count": null,
   "id": "210ad4d5",
   "metadata": {},
   "outputs": [],
   "source": [
    "top_athletes = df.groupby('name')['total_medals'].sum().sort_values(ascending=False).head(10)\n",
    "top_athletes"
   ]
  },
  {
   "cell_type": "code",
   "execution_count": null,
   "id": "35ce07bc",
   "metadata": {},
   "outputs": [],
   "source": [
    "\n",
    "df['gender'] = df['gender'].replace({'F': 'W'})\n",
    "# Create a Total Medals column\n",
    "df['total_medals'] = df['gold'] + df['silver'] + df['bronze']\n",
    "\n",
    "# Filter only athletes with at least one medal\n",
    "medal_winners = df[df['total_medals'] > 0]\n",
    "\n",
    "# Group by athlete name and sum medals\n",
    "medal_summary = medal_winners.groupby('name').agg(\n",
    "    Gold=('gold', 'sum'),\n",
    "    Silver=('silver', 'sum'),\n",
    "    Bronze=('bronze', 'sum'),\n",
    "    Total=('total_medals', 'sum')\n",
    ").reset_index()\n",
    "\n",
    "# Sort by Total medals descending\n",
    "medal_summary = medal_summary.sort_values(by='Total', ascending=False)\n",
    "\n",
    "# Display top 10\n",
    "print(medal_summary.head(10))\n",
    "\n",
    "# Optional: Save to CSV\n",
    "medal_summary.to_csv(\"medal_winners.csv\", index=False)\n"
   ]
  }
 ],
 "metadata": {
  "kernelspec": {
   "display_name": ".venv",
   "language": "python",
   "name": "python3"
  },
  "language_info": {
   "codemirror_mode": {
    "name": "ipython",
    "version": 3
   },
   "file_extension": ".py",
   "mimetype": "text/x-python",
   "name": "python",
   "nbconvert_exporter": "python",
   "pygments_lexer": "ipython3",
   "version": "3.13.4"
  }
 },
 "nbformat": 4,
 "nbformat_minor": 5
}
